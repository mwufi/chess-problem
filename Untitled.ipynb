{
 "cells": [
  {
   "cell_type": "markdown",
   "metadata": {},
   "source": [
    "# Setting up the board"
   ]
  },
  {
   "cell_type": "code",
   "execution_count": 2,
   "metadata": {},
   "outputs": [
    {
     "name": "stdout",
     "output_type": "stream",
     "text": [
      "_  _  _  _  _  _  _  _\n",
      "_  _  _  _  _  _  _  _\n",
      "_  _  _  _  _  _  _  _\n",
      "_  _  _  _  _  _  _  _\n",
      "_  _  _  _  _  _  _  _\n",
      "_  _  _  _  _  _  _  _\n",
      "_  _  _  _  _  _  _  _\n",
      "_  _  _  _  _  _  _  _\n"
     ]
    }
   ],
   "source": [
    "import copy\n",
    "BLANK = '_'\n",
    "def isBlank(piece):\n",
    "    return piece in ['_', '2', '1']\n",
    "\n",
    "def newboard():\n",
    "    return [[BLANK]*8 for i in range(8)]\n",
    "\n",
    "board = newboard()\n",
    "\n",
    "def display(board, markers=None):\n",
    "    if markers is not None:\n",
    "        board = copy.deepcopy(board)\n",
    "        for t in markers:\n",
    "            board[t[0]][t[1]] = '+'\n",
    "    \n",
    "    rows = [\"  \".join(row) for row in board]\n",
    "    s = \"\\n\".join(rows)\n",
    "    print(s)\n",
    "\n",
    "display(board)"
   ]
  },
  {
   "cell_type": "code",
   "execution_count": 3,
   "metadata": {},
   "outputs": [
    {
     "data": {
      "text/plain": [
       "True"
      ]
     },
     "execution_count": 3,
     "metadata": {},
     "output_type": "execute_result"
    }
   ],
   "source": [
    "\n",
    "def isLegal(board, move):\n",
    "    \"\"\"Returns True if move is within bounds and there is no piece there\"\"\"\n",
    "    x,y = move\n",
    "    if x >= 8 or y >= 8:\n",
    "        return False\n",
    "    if x < 0 or y < 0:\n",
    "        return False\n",
    "    \n",
    "    piece = board[move[0]][move[1]]\n",
    "    return isBlank(piece)\n",
    "        \n",
    "isLegal(board, (7,1))"
   ]
  },
  {
   "cell_type": "code",
   "execution_count": 4,
   "metadata": {},
   "outputs": [
    {
     "name": "stdout",
     "output_type": "stream",
     "text": [
      "_  _  _  _  _  _  _  _\n",
      "_  _  +  _  +  _  _  _\n",
      "_  +  _  _  _  +  _  _\n",
      "_  _  _  o  _  _  _  _\n",
      "_  +  _  _  _  +  _  _\n",
      "_  _  +  _  +  _  _  _\n",
      "_  _  _  _  _  _  _  _\n",
      "_  _  _  _  _  _  _  _\n"
     ]
    }
   ],
   "source": [
    "def knight_moves(start):\n",
    "    x,y = start\n",
    "    \n",
    "    moves = []\n",
    "    directions = [-1, 1]\n",
    "    for shift_x in directions:\n",
    "        for shift_y in directions:\n",
    "            moves.append((x + shift_x * 1, y + shift_y * 2))\n",
    "            moves.append((x + shift_x * 2, y + shift_y * 1))\n",
    "    \n",
    "    return moves\n",
    "\n",
    "def plot(board, move_generator, start):\n",
    "    board = copy.deepcopy(board)\n",
    "    \n",
    "    for move in move_generator(start):\n",
    "        if isLegal(board, move):\n",
    "            board[move[0]][move[1]] = '+'\n",
    "    \n",
    "    board[start[0]][start[1]] = 'o'\n",
    "    display(board)\n",
    "    \n",
    "plot(board, knight_moves, (3,3))"
   ]
  },
  {
   "cell_type": "code",
   "execution_count": 5,
   "metadata": {},
   "outputs": [
    {
     "name": "stdout",
     "output_type": "stream",
     "text": [
      "o  +  _  _  _  _  _  _\n",
      "+  +  _  _  _  _  _  _\n",
      "_  _  _  _  _  _  _  _\n",
      "_  _  _  _  _  _  _  _\n",
      "_  _  _  _  _  _  _  _\n",
      "_  _  _  _  _  _  _  _\n",
      "_  _  _  _  _  _  _  _\n",
      "_  _  _  _  _  _  _  _\n"
     ]
    }
   ],
   "source": [
    "def king_moves(start):\n",
    "    x,y = start\n",
    "    \n",
    "    moves = []\n",
    "    directions = [-1, 0, 1]\n",
    "    for shift_x in directions:\n",
    "        for shift_y in directions:\n",
    "            if not (shift_x == 0 and shift_y == 0):\n",
    "                moves.append((x + shift_x, y + shift_y))\n",
    "    \n",
    "    return moves\n",
    "\n",
    "plot(board, king_moves, (0,0))"
   ]
  },
  {
   "cell_type": "code",
   "execution_count": 6,
   "metadata": {},
   "outputs": [
    {
     "name": "stdout",
     "output_type": "stream",
     "text": [
      "+  _  _  _  _  _  +  _\n",
      "_  +  _  _  _  +  _  _\n",
      "_  _  +  _  +  _  _  _\n",
      "_  _  _  o  _  _  _  _\n",
      "_  _  +  _  +  _  _  _\n",
      "_  +  _  _  _  +  _  _\n",
      "+  _  _  _  _  _  +  _\n",
      "_  _  _  _  _  _  _  +\n"
     ]
    }
   ],
   "source": [
    "def bishop_moves(start):\n",
    "    x,y = start\n",
    "    \n",
    "    moves = []\n",
    "    directions = [\n",
    "        (-1, 1),\n",
    "        (1, 1),\n",
    "        (-1, -1),\n",
    "        (1, -1)\n",
    "    ]\n",
    "    for t in directions:\n",
    "        shift_x, shift_y = t\n",
    "        \n",
    "        for length in range(8):\n",
    "            if length != 0:\n",
    "                moves.append((x + shift_x * length, y + shift_y * length))\n",
    "    \n",
    "    return moves\n",
    "\n",
    "plot(board, bishop_moves, (3,3))"
   ]
  },
  {
   "cell_type": "code",
   "execution_count": 7,
   "metadata": {},
   "outputs": [
    {
     "data": {
      "text/plain": [
       "13"
      ]
     },
     "execution_count": 7,
     "metadata": {},
     "output_type": "execute_result"
    }
   ],
   "source": [
    "def valid(moves):\n",
    "    return list(filter(lambda x: isLegal(board, x), moves))\n",
    "\n",
    "len(valid(bishop_moves((3,3)))) # count the squares above"
   ]
  },
  {
   "cell_type": "markdown",
   "metadata": {},
   "source": [
    "# Planning"
   ]
  },
  {
   "cell_type": "markdown",
   "metadata": {},
   "source": [
    "we want to find the shortest possible path from START to END\n",
    "\n",
    "Let's try Breadth-First Search\n",
    "\n",
    "Pseudocode:\n",
    "1. initialize start, end leaves, as well as the entire board (visited=false)\n",
    "2. expand start leaves... if any of them touch an end leaf, we're done\n",
    "3. Keep doing step 2"
   ]
  },
  {
   "cell_type": "code",
   "execution_count": 8,
   "metadata": {},
   "outputs": [
    {
     "name": "stdout",
     "output_type": "stream",
     "text": [
      "Shortest path is:\n",
      "[(0, 0), (2, 2), (3, 1), (4, 2)]\n",
      "+  _  _  _  _  _  _  _\n",
      "_  x  _  _  _  _  _  _\n",
      "_  _  +  _  _  _  _  _\n",
      "_  +  _  x  _  _  _  _\n",
      "_  _  +  _  _  _  _  _\n",
      "_  _  _  _  _  _  _  _\n",
      "_  _  _  _  _  _  _  _\n",
      "_  _  _  _  _  _  _  _\n"
     ]
    }
   ],
   "source": [
    "class SearchNode:\n",
    "    def __init__(self, pos, parent=None):\n",
    "        self.pos = pos\n",
    "        self.expanded = False\n",
    "        self.parent = parent\n",
    "    \n",
    "    def expand(self, move_generator=knight_moves):\n",
    "        \"\"\"Returns a list of next nodes\"\"\"\n",
    "        self.expanded = True\n",
    "        return [SearchNode(e, self) for e in valid(move_generator(self.pos))]\n",
    "    \n",
    "    def __repr__(self):\n",
    "        return \"<{},{}>\".format(self.pos[0], self.pos[1])\n",
    "    \n",
    "class SearchTree:\n",
    "    def __init__(self, initial_pos):\n",
    "        self.tree = [SearchNode(initial_pos)]\n",
    "    \n",
    "    def first_unexpanded_node(self):\n",
    "        for i in self.tree:\n",
    "            if not i.expanded:\n",
    "                return i\n",
    "        return None\n",
    "    \n",
    "    def trace(self, node):\n",
    "        \"\"\"Returns a path up to the root\"\"\"\n",
    "        nodes = [node]\n",
    "        while node.parent is not None:\n",
    "            node = node.parent\n",
    "            nodes.append(node)\n",
    "        \n",
    "        return list(reversed([node.pos for node in nodes]))\n",
    "\n",
    "    \n",
    "def find_path(start, end, move_generator=knight_moves, give_up_at=200):\n",
    "    \"\"\"Runs breadth-first search on start\"\"\"\n",
    "    a = SearchTree(start)\n",
    "    leaf = a.first_unexpanded_node()\n",
    "    while leaf is not None and len(a.tree) < give_up_at:\n",
    "        for t in leaf.expand(move_generator):\n",
    "            if t.pos == end:\n",
    "                path = a.trace(t)\n",
    "                print(\"Shortest path is:\")\n",
    "                return path\n",
    "            else:\n",
    "                a.tree.append(t)\n",
    "        leaf = a.first_unexpanded_node()\n",
    "\n",
    "    print(\"No path found...\")\n",
    "    return None\n",
    "\n",
    "board = newboard()\n",
    "board[3][3] = 'x'\n",
    "board[1][1] = 'x'\n",
    "\n",
    "start = (0,0)\n",
    "end = (4,2)\n",
    "\n",
    "path = find_path(start, end, bishop_moves)\n",
    "print(path)\n",
    "display(board, path)"
   ]
  },
  {
   "cell_type": "markdown",
   "metadata": {},
   "source": [
    "# What's missing?\n",
    "\n",
    "- It's not supposed to go through barriers!\n",
    "- If you decrease `give_up_at` to 100, it doesn't find the path"
   ]
  },
  {
   "cell_type": "code",
   "execution_count": 9,
   "metadata": {},
   "outputs": [
    {
     "name": "stdout",
     "output_type": "stream",
     "text": [
      "Shortest path is:\n",
      "[(0, 0), (1, 1), (2, 0), (4, 2)]\n",
      "+  _  _  _  _  _  _  _\n",
      "_  +  _  _  _  _  _  _\n",
      "+  _  _  _  _  _  _  _\n",
      "_  _  _  x  _  _  _  _\n",
      "_  _  +  _  _  _  _  _\n",
      "_  _  _  _  _  _  _  _\n",
      "_  _  _  _  _  _  _  _\n",
      "_  _  _  _  _  _  _  _\n"
     ]
    }
   ],
   "source": [
    "board = newboard()\n",
    "board[3][3] = 'x'\n",
    "\n",
    "start = (0,0)\n",
    "end = (4,2)\n",
    "\n",
    "path = find_path(start, end, bishop_moves, 140)\n",
    "print(path)\n",
    "display(board, path)"
   ]
  }
 ],
 "metadata": {
  "kernelspec": {
   "display_name": "Python 3",
   "language": "python",
   "name": "python3"
  },
  "language_info": {
   "codemirror_mode": {
    "name": "ipython",
    "version": 3
   },
   "file_extension": ".py",
   "mimetype": "text/x-python",
   "name": "python",
   "nbconvert_exporter": "python",
   "pygments_lexer": "ipython3",
   "version": "3.6.5"
  }
 },
 "nbformat": 4,
 "nbformat_minor": 2
}
